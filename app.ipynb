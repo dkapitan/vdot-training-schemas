{
 "cells": [
  {
   "cell_type": "markdown",
   "source": "# Interval training schemas based on VDOT tables\n\nI love to run. Ever since I was a kid, I run at least a couple of times a week. Never competitively, but just to keep a sane body and mind - as Asics says we should.\n\nBut it can get boring just to mindlessly run your regular rounds. Also, when training for a specific event, you may want to up the ante and vary the different types of running. Now, while the benefits of long, easy runs should never be underestimated nor forgotten, pushing yourself with interval training is a nice way to challenge yourself. [This article from the Dutch edition of Runner's World](https://www.runnersworld.com/nl/training/looptips/a22734566/word-sneller-met-deze-7-intervaltrainingen/?utm_source=pocket_mylist) gives a nice overview of seven different interval training schema's. But when I first had a go at it, I was struggling to calculate realistic pace-times: what are my paces at 5k, 10k or for a marathon?\n\nThis is where [Jack Daniels' running formula](https://www.runnersworld.com/training/a20829356/dr-jack-daniels-and-the-power-of-oxygen/) \n come into play. Based on your VDOT number, which you can easily lookup using the [VDOT tables](https://github.com/karalyndewalt/FastAsYouCan?utm_source=pocket_mylist), you can calculate your different paces. Since Daniels' influential invention in 1998, this has become a widely accepted method for planning your training session. Despite various critiques, such as [small error's in the formula itself](https://www.prorun.nl/training/de-vo2-max-deel-5-de-achterliggende-formules/) or the [fixation on VO2max for endurance trainin](https://www.scienceofrunning.com/2009/12/fallacy-of-vo2max-and-vo2max.html?v=47e5dceea252), I found this approach useful in varying my running sessions.\n \nTo customize the various training schema's for you, just enter your VDOT value below and take your pick what you feel like doing today. Please use them wisely and only as a guideline, and don't forget to listen to your body.",
   "metadata": {
    "tags": [],
    "cell_id": "00000-2ce6e0ec-21f1-4b11-98b5-60ecd3d575b8",
    "deepnote_app_coordinates": {
     "x": 0,
     "y": 0,
     "w": 10,
     "h": 29
    },
    "deepnote_cell_type": "markdown"
   }
  },
  {
   "cell_type": "code",
   "metadata": {
    "tags": [],
    "cell_id": "00000-0e0e14aa-2b05-442e-a32d-5cd105e3369c",
    "deepnote_to_be_reexecuted": false,
    "source_hash": "9106e1c4",
    "execution_start": 1638710268996,
    "execution_millis": 96,
    "is_code_hidden": true,
    "deepnote_app_is_code_hidden": true,
    "deepnote_cell_type": "code"
   },
   "source": "from training_schemas import *",
   "execution_count": 1,
   "outputs": []
  },
  {
   "cell_type": "code",
   "metadata": {
    "deepnote_variable_name": "vdot_input",
    "deepnote_variable_value": "46",
    "deepnote_slider_min_value": 30,
    "deepnote_slider_max_value": 60,
    "deepnote_slider_step": 1,
    "cell_id": "00002-38e494b5-3090-43da-a72c-74fab3bb2e57",
    "deepnote_to_be_reexecuted": false,
    "source_hash": "9cc621c6",
    "execution_start": 1638710291218,
    "execution_millis": 9,
    "deepnote_app_coordinates": {
     "x": 10,
     "y": 5,
     "w": 6,
     "h": 4
    },
    "deepnote_cell_type": "input-slider"
   },
   "source": "vdot_input = 46",
   "execution_count": 8,
   "outputs": []
  },
  {
   "cell_type": "code",
   "source": "vit(vdot_input)",
   "metadata": {
    "tags": [],
    "cell_id": "00005-da0b0684-c2e8-4240-9066-5bd1d2ae1fa1",
    "deepnote_to_be_reexecuted": false,
    "source_hash": "528de9ff",
    "execution_start": 1638710292824,
    "execution_millis": 29,
    "is_code_hidden": false,
    "deepnote_app_coordinates": {
     "x": 10,
     "y": 9,
     "w": 12,
     "h": 9
    },
    "deepnote_app_is_code_hidden": true,
    "deepnote_output_heights": [
     251.4375
    ],
    "deepnote_cell_type": "code"
   },
   "outputs": [
    {
     "name": "stdout",
     "text": "\n    Your Variable Interval Tempo (VIT) training paces and times are:\n      VDOT:       46\n      - marathon: 00:04:51 (00:01:56) \n      - 5k:       00:04:17 (00:01:43)\n    \n",
     "output_type": "stream"
    }
   ],
   "execution_count": 9
  },
  {
   "cell_type": "code",
   "metadata": {
    "tags": [],
    "cell_id": "00003-13dec74d-bb10-4f57-b1b1-7ff2fcc38453",
    "deepnote_to_be_reexecuted": false,
    "source_hash": "8049ac73",
    "execution_start": 1638710295724,
    "execution_millis": 11,
    "is_code_hidden": true,
    "deepnote_app_coordinates": {
     "x": 10,
     "y": 18,
     "w": 12,
     "h": 10
    },
    "deepnote_app_is_code_hidden": true,
    "deepnote_cell_type": "code"
   },
   "source": "olga_bondarenko_interval(vdot_input)",
   "execution_count": 10,
   "outputs": [
    {
     "name": "stdout",
     "text": "\n    Your Olga Bondarenko interval training paces and times are:\n      - recovery: 00:04:51 \n      - 400m:     00:04:17 (00:01:43)\n      - 300m:     00:03:53 (00:01:10)\n      - 200m:     00:03:43 (00:00:45)\n      - 100m:     sprint  \n    \n",
     "output_type": "stream"
    }
   ]
  },
  {
   "cell_type": "code",
   "source": "",
   "metadata": {
    "tags": [],
    "cell_id": "00005-4de5a232-c038-4ebf-b180-0e9cf9b09d74",
    "deepnote_to_be_reexecuted": false,
    "source_hash": "b623e53d",
    "execution_start": 1638710269239,
    "deepnote_cell_type": "code"
   },
   "outputs": [],
   "execution_count": 4
  },
  {
   "cell_type": "markdown",
   "source": "<a style='text-decoration:none;line-height:16px;display:flex;color:#5B5B62;padding:10px;justify-content:end;' href='https://deepnote.com?utm_source=created-in-deepnote-cell&projectId=851e7bec-0018-4cf1-a662-4f6233f6182c' target=\"_blank\">\n<img alt='Created in deepnote.com' style='display:inline;max-height:16px;margin:0px;margin-right:7.5px;' src='data:image/svg+xml;base64,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' > </img>\nCreated in <span style='font-weight:600;margin-left:4px;'>Deepnote</span></a>",
   "metadata": {
    "tags": [],
    "created_in_deepnote_cell": true,
    "deepnote_cell_type": "markdown"
   }
  }
 ],
 "nbformat": 4,
 "nbformat_minor": 2,
 "metadata": {
  "orig_nbformat": 2,
  "deepnote": {
   "is_reactive": false
  },
  "deepnote_notebook_id": "5318cb99-6405-47fe-9b53-9e2c69113e4d",
  "deepnote_execution_queue": [],
  "deepnote_app_layout": "dashboard"
 }
}